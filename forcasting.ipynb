{
 "cells": [
  {
   "cell_type": "markdown",
   "metadata": {},
   "source": [
    "# import libraries"
   ]
  },
  {
   "cell_type": "code",
   "execution_count": 2,
   "metadata": {},
   "outputs": [],
   "source": [
    "import pandas as pd\n",
    "from datetime import datetime\n",
    "# from pandas import datetime\n",
    "from matplotlib import pyplot\n",
    "from pandas import DataFrame\n",
    "# use a ARIMA machine learning model \n",
    "from statsmodels.tsa.arima_model import ARIMA\n",
    "from matplotlib import pyplot\n",
    "from sklearn.metrics import mean_squared_error\n",
    "from math import sqrt\n",
    "import numpy as np"
   ]
  },
  {
   "cell_type": "markdown",
   "metadata": {},
   "source": [
    "# function that called a parser that convert the type of date to datetime in python "
   ]
  },
  {
   "cell_type": "code",
   "execution_count": 3,
   "metadata": {},
   "outputs": [],
   "source": [
    "def parser(x):\n",
    "\treturn datetime.strptime(x, '%m/%d/%Y')\n",
    "# read the data file  csv file \n",
    "\n",
    "df = pd.read_csv('data_prices.csv', header=0, parse_dates=[0], index_col=0, squeeze=True, date_parser=parser)\n",
    "df.index = df.index.to_period('M')"
   ]
  },
  {
   "cell_type": "markdown",
   "metadata": {},
   "source": [
    "# show the Date and the Price"
   ]
  },
  {
   "cell_type": "code",
   "execution_count": 4,
   "metadata": {},
   "outputs": [
    {
     "data": {
      "text/plain": [
       "Date\n",
       "2017-02     55.478001\n",
       "2017-02     54.702000\n",
       "2017-02     51.198002\n",
       "2017-02     51.400002\n",
       "2017-02     49.245998\n",
       "              ...    \n",
       "2022-02    860.000000\n",
       "2022-02    875.760010\n",
       "2022-02    922.429993\n",
       "2022-02    923.390015\n",
       "2022-02    876.349976\n",
       "Freq: M, Name: Price, Length: 1259, dtype: float64"
      ]
     },
     "execution_count": 4,
     "metadata": {},
     "output_type": "execute_result"
    }
   ],
   "source": [
    "df"
   ]
  },
  {
   "cell_type": "markdown",
   "metadata": {},
   "source": [
    "# show first 5 rows in dataset"
   ]
  },
  {
   "cell_type": "code",
   "execution_count": 5,
   "metadata": {},
   "outputs": [
    {
     "name": "stdout",
     "output_type": "stream",
     "text": [
      "Date\n",
      "2017-02    55.478001\n",
      "2017-02    54.702000\n",
      "2017-02    51.198002\n",
      "2017-02    51.400002\n",
      "2017-02    49.245998\n",
      "Freq: M, Name: Price, dtype: float64\n"
     ]
    }
   ],
   "source": [
    "print(df.head())"
   ]
  },
  {
   "cell_type": "markdown",
   "metadata": {},
   "source": [
    "# check if there is a null  value in database"
   ]
  },
  {
   "cell_type": "code",
   "execution_count": 6,
   "metadata": {},
   "outputs": [
    {
     "name": "stdout",
     "output_type": "stream",
     "text": [
      "0\n"
     ]
    }
   ],
   "source": [
    "print(df.isnull().sum())"
   ]
  },
  {
   "cell_type": "markdown",
   "metadata": {},
   "source": [
    "\n",
    "# describe the datafram , show the maen value and std .. etc."
   ]
  },
  {
   "cell_type": "code",
   "execution_count": 7,
   "metadata": {},
   "outputs": [
    {
     "name": "stdout",
     "output_type": "stream",
     "text": [
      "count    1259.000000\n",
      "mean      274.624800\n",
      "std       318.157961\n",
      "min        35.793999\n",
      "25%        60.817999\n",
      "50%        70.489998\n",
      "75%       488.125000\n",
      "max      1229.910034\n",
      "Name: Price, dtype: float64\n"
     ]
    }
   ],
   "source": [
    "print(df.describe())"
   ]
  },
  {
   "cell_type": "markdown",
   "metadata": {},
   "source": [
    "# plot the data \n",
    "### show there is a There is an ascending relationship between history and prices, \n",
    "### and there is a rise in prices from the beginning of 2020 until 2022\n"
   ]
  },
  {
   "cell_type": "code",
   "execution_count": 8,
   "metadata": {},
   "outputs": [
    {
     "data": {
      "text/plain": [
       "[Text(0.5, 1.0, 'Price by year 2017 to 2022'), Text(0, 0.5, 'Price')]"
      ]
     },
     "execution_count": 8,
     "metadata": {},
     "output_type": "execute_result"
    },
    {
     "data": {
      "image/png": "[encoded data removed]",
      "text/plain": [
       "<Figure size 864x432 with 1 Axes>"
      ]
     },
     "metadata": {
      "needs_background": "light"
     },
     "output_type": "display_data"
    }
   ],
   "source": [
    "ax = df.plot(figsize=(12,6))\n",
    "ax.set(title='Price by year 2017 to 2022', ylabel='Price')"
   ]
  },
  {
   "cell_type": "markdown",
   "metadata": {},
   "source": [
    "# fit an ARIMA model and plot residual errors"
   ]
  },
  {
   "cell_type": "code",
   "execution_count": 10,
   "metadata": {},
   "outputs": [
    {
     "name": "stdout",
     "output_type": "stream",
     "text": [
      "                               SARIMAX Results                                \n",
      "==============================================================================\n",
      "Dep. Variable:                  Price   No. Observations:                 1259\n",
      "Model:                 ARIMA(5, 1, 0)   Log Likelihood               -5303.812\n",
      "Date:                Mon, 14 Mar 2022   AIC                          10619.623\n",
      "Time:                        21:01:23   BIC                          10650.447\n",
      "Sample:                    02-28-2017   HQIC                         10631.207\n",
      "                         - 02-28-2022                                         \n",
      "Covariance Type:                  opg                                         \n",
      "==============================================================================\n",
      "                 coef    std err          z      P>|z|      [0.025      0.975]\n",
      "------------------------------------------------------------------------------\n",
      "ar.L1         -0.0340      0.014     -2.401      0.016      -0.062      -0.006\n",
      "ar.L2         -0.0403      0.013     -3.129      0.002      -0.065      -0.015\n",
      "ar.L3          0.0386      0.018      2.194      0.028       0.004       0.073\n",
      "ar.L4          0.0192      0.015      1.267      0.205      -0.010       0.049\n",
      "ar.L5          0.0389      0.013      2.963      0.003       0.013       0.065\n",
      "sigma2       268.8753      3.531     76.155      0.000     261.955     275.795\n",
      "===================================================================================\n",
      "Ljung-Box (L1) (Q):                   0.00   Jarque-Bera (JB):             17094.32\n",
      "Prob(Q):                              0.97   Prob(JB):                         0.00\n",
      "Heteroskedasticity (H):             223.26   Skew:                             0.23\n",
      "Prob(H) (two-sided):                  0.00   Kurtosis:                        21.05\n",
      "===================================================================================\n",
      "\n",
      "Warnings:\n",
      "[1] Covariance matrix calculated using the outer product of gradients (complex-step).\n"
     ]
    }
   ],
   "source": [
    "\n",
    "import statsmodels.api as sm\n",
    "\n",
    "\"\"\"\n",
    "data segmentation Non-seasonal ARIMA models are generally denoted ARIMA(p,d,q)\\\n",
    " where parameters p, d, and q are non-negative integers,\n",
    "  p is the order (number of time lags) of the autoregressive model,\n",
    "  d is the degree of differencing (the number of times the data have had past values subtracted), and \n",
    "  q is the order of the moving-average ..\n",
    "\n",
    "\"\"\"\n",
    "# use a ARIMA  model with  parameters p, d, and q \n",
    "\n",
    "model = sm.tsa.arima.ARIMA(df, order=(5,1,0))\n",
    "model_fit = model.fit()\n",
    "# summary of fit model\n",
    "print(model_fit.summary())"
   ]
  },
  {
   "cell_type": "markdown",
   "metadata": {},
   "source": [
    "\n",
    "# line plot of residuals"
   ]
  },
  {
   "cell_type": "code",
   "execution_count": 11,
   "metadata": {},
   "outputs": [
    {
     "data": {
      "image/png": "[encoded data removed]",
      "text/plain": [
       "<Figure size 432x288 with 1 Axes>"
      ]
     },
     "metadata": {
      "needs_background": "light"
     },
     "output_type": "display_data"
    },
    {
     "data": {
      "image/png": "[encoded data removed]",
      "text/plain": [
       "<Figure size 432x288 with 1 Axes>"
      ]
     },
     "metadata": {
      "needs_background": "light"
     },
     "output_type": "display_data"
    }
   ],
   "source": [
    "\n",
    "residuals = DataFrame(model_fit.resid)\n",
    "residuals.plot()\n",
    "pyplot.show()\n",
    "# density plot of residuals\n",
    "residuals.plot(kind='kde')\n",
    "pyplot.show()"
   ]
  },
  {
   "cell_type": "markdown",
   "metadata": {},
   "source": [
    "# summary stats of residuals  (error diffenrt between the real and predicted)"
   ]
  },
  {
   "cell_type": "code",
   "execution_count": 12,
   "metadata": {},
   "outputs": [
    {
     "name": "stdout",
     "output_type": "stream",
     "text": [
      "                 0\n",
      "count  1259.000000\n",
      "mean      0.683629\n",
      "std      16.457604\n",
      "min    -141.761521\n",
      "25%      -1.674110\n",
      "50%       0.164488\n",
      "75%       2.200648\n",
      "max     141.047072\n"
     ]
    }
   ],
   "source": [
    "print(residuals.describe())"
   ]
  },
  {
   "cell_type": "markdown",
   "metadata": {},
   "source": [
    "# split into train and test sets"
   ]
  },
  {
   "cell_type": "code",
   "execution_count": 13,
   "metadata": {},
   "outputs": [
    {
     "name": "stdout",
     "output_type": "stream",
     "text": [
      "[ 55.478001  54.702     51.198002 ... 922.429993 923.390015 876.349976]\n"
     ]
    }
   ],
   "source": [
    "X = df.values\n",
    "print(X)"
   ]
  },
  {
   "cell_type": "code",
   "execution_count": 14,
   "metadata": {},
   "outputs": [],
   "source": [
    "size = int(len(X) * 0.80)\n",
    "train, test = X[0:size], X[size:len(X)]\n",
    "history = [x for x in train]\n",
    "predictions = list() # list "
   ]
  },
  {
   "cell_type": "markdown",
   "metadata": {},
   "source": [
    "# X real value Price"
   ]
  },
  {
   "cell_type": "code",
   "execution_count": 20,
   "metadata": {},
   "outputs": [
    {
     "name": "stdout",
     "output_type": "stream",
     "text": [
      "1259\n",
      "size of total dataset that used :  1007\n",
      "size of train data :  1007\n",
      "size of test data :  252\n"
     ]
    }
   ],
   "source": [
    "print(len(X))\n",
    "print(\"size of total dataset that used : \",size)\n",
    "print(\"size of train data : \" , len(train))\n",
    "print(\"size of test data : \",len(test))"
   ]
  },
  {
   "cell_type": "markdown",
   "metadata": {},
   "source": [
    "# validation\n"
   ]
  },
  {
   "cell_type": "code",
   "execution_count": 16,
   "metadata": {},
   "outputs": [
    {
     "name": "stdout",
     "output_type": "stream",
     "text": [
      "predicted=780.055958, expected=714.500000\n",
      "predicted=716.016103, expected=698.840027\n",
      "predicted=698.297450, expected=742.020020\n",
      "predicted=737.412787, expected=682.219971\n",
      "predicted=675.199670, expected=675.500000\n",
      "predicted=682.548238, expected=718.429993\n",
      "predicted=714.674043, expected=686.440002\n",
      "predicted=678.435366, expected=653.200012\n",
      "predicted=664.662822, expected=621.440002\n",
      "predicted=624.304009, expected=597.950012\n",
      "predicted=591.617569, expected=563.000000\n",
      "predicted=558.237962, expected=673.580017\n",
      "predicted=669.063346, expected=668.059998\n",
      "predicted=659.905733, expected=699.599976\n",
      "predicted=708.417188, expected=693.729980\n",
      "predicted=701.892477, expected=707.940002\n",
      "predicted=699.526931, expected=676.880005\n",
      "predicted=680.286157, expected=701.809998\n",
      "predicted=697.891500, expected=653.159973\n",
      "predicted=655.957369, expected=654.869995\n",
      "predicted=652.608439, expected=670.000000\n",
      "predicted=671.068037, expected=662.159973\n",
      "predicted=656.814016, expected=630.270020\n",
      "predicted=639.460818, expected=640.390015\n",
      "predicted=640.377263, expected=618.710022\n",
      "predicted=615.429670, expected=611.289978\n",
      "predicted=611.403248, expected=635.619995\n",
      "predicted=637.115537, expected=667.929993\n",
      "predicted=662.551755, expected=661.750000\n",
      "predicted=665.835299, expected=691.049988\n",
      "predicted=694.187355, expected=691.619995\n",
      "predicted=689.691695, expected=670.969971\n",
      "predicted=669.444932, expected=683.799988\n",
      "predicted=685.699497, expected=677.020020\n",
      "predicted=671.846042, expected=701.979980\n",
      "predicted=700.080743, expected=762.320007\n",
      "predicted=761.725511, expected=732.229980\n",
      "predicted=733.454163, expected=738.849976\n",
      "predicted=745.374337, expected=739.780029\n",
      "predicted=736.819516, expected=714.630005\n",
      "predicted=708.039703, expected=718.989990\n",
      "predicted=722.987804, expected=744.119995\n",
      "predicted=739.514072, expected=719.690002\n",
      "predicted=720.512788, expected=729.400024\n",
      "predicted=734.508506, expected=738.200012\n",
      "predicted=735.565688, expected=704.739990\n",
      "predicted=704.031253, expected=694.400024\n",
      "predicted=699.958176, expected=677.000000\n",
      "predicted=674.366719, expected=709.440002\n",
      "predicted=704.423181, expected=684.900024\n",
      "predicted=688.982252, expected=673.599976\n",
      "predicted=678.234720, expected=670.940002\n",
      "predicted=672.572211, expected=663.539978\n",
      "predicted=658.443191, expected=672.369995\n",
      "predicted=674.165940, expected=629.039978\n",
      "predicted=632.954442, expected=617.200012\n",
      "predicted=619.456862, expected=589.890015\n",
      "predicted=589.476399, expected=571.690002\n",
      "predicted=569.469215, expected=589.739990\n",
      "predicted=590.584957, expected=576.830017\n",
      "predicted=576.444823, expected=577.869995\n",
      "predicted=581.750395, expected=563.460022\n",
      "predicted=565.845312, expected=586.780029\n",
      "predicted=582.823766, expected=580.880005\n",
      "predicted=581.394092, expected=606.440002\n",
      "predicted=605.775146, expected=604.690002\n",
      "predicted=606.713532, expected=619.130005\n",
      "predicted=617.386277, expected=630.849976\n",
      "predicted=631.430118, expected=625.219971\n",
      "predicted=624.136293, expected=623.900024\n",
      "predicted=625.696674, expected=605.119995\n",
      "predicted=604.960745, expected=572.840027\n",
      "predicted=573.524460, expected=599.049988\n",
      "predicted=596.038961, expected=605.130005\n",
      "predicted=601.516523, expected=603.590027\n",
      "predicted=606.852553, expected=598.780029\n",
      "predicted=603.887668, expected=610.119995\n",
      "predicted=606.549318, expected=609.890015\n",
      "predicted=608.790978, expected=617.690002\n",
      "predicted=618.013917, expected=599.359985\n",
      "predicted=601.624203, expected=604.869995\n",
      "predicted=603.894578, expected=616.599976\n",
      "predicted=614.508521, expected=623.309998\n",
      "predicted=621.741844, expected=620.830017\n",
      "predicted=624.027932, expected=623.710022\n",
      "predicted=623.855119, expected=656.570007\n",
      "predicted=652.902078, expected=679.820007\n",
      "predicted=677.535461, expected=671.869995\n",
      "predicted=675.315537, expected=688.719971\n",
      "predicted=690.436034, expected=680.760010\n",
      "predicted=678.156974, expected=679.700012\n",
      "predicted=678.497986, expected=677.919983\n",
      "predicted=678.839166, expected=678.900024\n",
      "predicted=676.734375, expected=659.580017\n",
      "predicted=661.626588, expected=644.650024\n",
      "predicted=645.855224, expected=652.809998\n",
      "predicted=650.907745, expected=656.950012\n",
      "predicted=654.597398, expected=685.700012\n",
      "predicted=685.808519, expected=668.539978\n",
      "predicted=671.842499, expected=653.380005\n",
      "predicted=656.085988, expected=650.599976\n",
      "predicted=650.164447, expected=644.219971\n",
      "predicted=640.108856, expected=646.219971\n",
      "predicted=647.097448, expected=660.500000\n",
      "predicted=660.432402, expected=655.289978\n",
      "predicted=655.809680, expected=649.260010\n",
      "predicted=651.483043, expected=643.380005\n",
      "predicted=643.696419, expected=657.619995\n",
      "predicted=654.617408, expected=644.780029\n",
      "predicted=645.507646, expected=646.979980\n",
      "predicted=648.355713, expected=677.349976\n",
      "predicted=675.210265, expected=687.200012\n",
      "predicted=684.583219, expected=709.669983\n",
      "predicted=711.768388, expected=709.739990\n",
      "predicted=711.125209, expected=710.919983\n",
      "predicted=709.826031, expected=714.630005\n",
      "predicted=714.110180, expected=699.099976\n",
      "predicted=698.008390, expected=713.760010\n",
      "predicted=713.094529, expected=709.989990\n",
      "predicted=709.023239, expected=707.820007\n",
      "predicted=708.288050, expected=722.250000\n",
      "predicted=722.864675, expected=717.169983\n",
      "predicted=715.798817, expected=686.169983\n",
      "predicted=689.801869, expected=665.710022\n",
      "predicted=667.422546, expected=688.989990\n",
      "predicted=683.692873, expected=673.469971\n",
      "predicted=672.360230, expected=680.260010\n",
      "predicted=684.147469, expected=706.299988\n",
      "predicted=705.947262, expected=708.489990\n",
      "predicted=705.830750, expected=711.200012\n",
      "predicted=714.829228, expected=701.159973\n",
      "predicted=701.957893, expected=711.919983\n",
      "predicted=708.865879, expected=730.909973\n",
      "predicted=728.596604, expected=735.719971\n",
      "predicted=735.517022, expected=734.090027\n",
      "predicted=736.892003, expected=732.390015\n",
      "predicted=732.347373, expected=733.570007\n",
      "predicted=731.657599, expected=752.919983\n",
      "predicted=750.967699, expected=753.869995\n",
      "predicted=753.821185, expected=754.859985\n",
      "predicted=756.449668, expected=736.270020\n",
      "predicted=738.006731, expected=743.000000\n",
      "predicted=740.985664, expected=744.489990\n",
      "predicted=742.890579, expected=755.830017\n",
      "predicted=754.913345, expected=756.989990\n",
      "predicted=758.853787, expected=759.489990\n",
      "predicted=759.536014, expected=730.169983\n",
      "predicted=732.393955, expected=739.380005\n",
      "predicted=738.152645, expected=751.940002\n",
      "predicted=748.861514, expected=753.640015\n",
      "predicted=752.948097, expected=774.390015\n",
      "predicted=776.847290, expected=791.359985\n",
      "predicted=789.581388, expected=777.559998\n",
      "predicted=778.590991, expected=781.309998\n",
      "predicted=782.766777, expected=775.479980\n",
      "predicted=773.224253, expected=775.219971\n",
      "predicted=773.587158, expected=781.530029\n",
      "predicted=782.111499, expected=780.590027\n",
      "predicted=780.070994, expected=782.750000\n",
      "predicted=783.618362, expected=793.609985\n",
      "predicted=792.955773, expected=785.489990\n",
      "predicted=785.445932, expected=791.940002\n",
      "predicted=792.501430, expected=805.719971\n",
      "predicted=804.165688, expected=811.080017\n",
      "predicted=809.800293, expected=818.320007\n",
      "predicted=819.706580, expected=843.030029\n",
      "predicted=841.438186, expected=870.109985\n",
      "predicted=867.620397, expected=864.270020\n",
      "predicted=865.955889, expected=865.799988\n",
      "predicted=867.738700, expected=894.000000\n",
      "predicted=890.235933, expected=909.679993\n",
      "predicted=905.951667, expected=1024.859985\n",
      "predicted=1022.365541, expected=1018.429993\n",
      "predicted=1021.921845, expected=1037.859985\n",
      "predicted=1044.781494, expected=1077.040039\n",
      "predicted=1078.017235, expected=1114.000000\n",
      "predicted=1107.450578, expected=1208.589966\n",
      "predicted=1213.354549, expected=1172.000000\n",
      "predicted=1182.533687, expected=1213.859985\n",
      "predicted=1223.036806, expected=1229.910034\n",
      "predicted=1232.751195, expected=1222.089966\n",
      "predicted=1225.961411, expected=1162.939941\n",
      "predicted=1171.007984, expected=1023.500000\n",
      "predicted=1020.466028, expected=1067.949951\n",
      "predicted=1056.906038, expected=1063.510010\n",
      "predicted=1050.297925, expected=1033.420044\n",
      "predicted=1031.841331, expected=1013.390015\n",
      "predicted=1013.502157, expected=1054.729980\n",
      "predicted=1049.386262, expected=1089.010010\n",
      "predicted=1085.098385, expected=1096.380005\n",
      "predicted=1099.281850, expected=1137.060059\n",
      "predicted=1142.142397, expected=1156.869995\n",
      "predicted=1159.736426, expected=1109.030029\n",
      "predicted=1113.975068, expected=1116.000000\n",
      "predicted=1118.961335, expected=1081.920044\n",
      "predicted=1078.521381, expected=1136.989990\n",
      "predicted=1132.241536, expected=1144.760010\n",
      "predicted=1143.824170, expected=1095.000000\n",
      "predicted=1099.811072, expected=1084.599976\n",
      "predicted=1087.813682, expected=1014.969971\n",
      "predicted=1013.200540, expected=1009.010010\n",
      "predicted=1005.032689, expected=1051.750000\n",
      "predicted=1044.385700, expected=1068.959961\n",
      "predicted=1067.091482, expected=1003.799988\n",
      "predicted=1007.653827, expected=1017.030029\n",
      "predicted=1019.625358, expected=966.409973\n",
      "predicted=964.283552, expected=958.510010\n",
      "predicted=957.115625, expected=975.989990\n",
      "predicted=971.495669, expected=926.919983\n",
      "predicted=927.049040, expected=932.570007\n",
      "predicted=932.104714, expected=899.940002\n",
      "predicted=897.416844, expected=938.530029\n",
      "predicted=935.960446, expected=1008.869995\n",
      "predicted=1003.476837, expected=1067.000000\n",
      "predicted=1069.958835, expected=1093.939941\n",
      "predicted=1099.957039, expected=1088.469971\n",
      "predicted=1094.170114, expected=1086.189941\n",
      "predicted=1089.310034, expected=1070.339966\n",
      "predicted=1070.738794, expected=1056.780029\n",
      "predicted=1056.562139, expected=1199.780029\n",
      "predicted=1196.927424, expected=1149.589966\n",
      "predicted=1152.685257, expected=1088.119995\n",
      "predicted=1099.592977, expected=1064.699951\n",
      "predicted=1063.380151, expected=1026.959961\n",
      "predicted=1029.092766, expected=1058.119995\n",
      "predicted=1055.577318, expected=1064.400024\n",
      "predicted=1060.068519, expected=1106.219971\n",
      "predicted=1107.094069, expected=1031.560059\n",
      "predicted=1031.628424, expected=1049.609985\n",
      "predicted=1051.752307, expected=1030.510010\n",
      "predicted=1028.349111, expected=995.650024\n",
      "predicted=1000.065296, expected=996.270020\n",
      "predicted=992.654553, expected=943.900024\n",
      "predicted=945.023035, expected=930.000000\n",
      "predicted=929.799740, expected=918.400024\n",
      "predicted=914.615372, expected=937.409973\n",
      "predicted=937.139077, expected=829.099976\n",
      "predicted=830.236483, expected=846.349976\n",
      "predicted=844.603876, expected=936.719971\n",
      "predicted=927.191823, expected=931.250000\n",
      "predicted=931.628754, expected=905.659973\n",
      "predicted=907.421166, expected=891.140015\n",
      "predicted=893.222335, expected=923.320007\n",
      "predicted=925.192724, expected=907.340027\n",
      "predicted=905.868356, expected=922.000000\n",
      "predicted=922.138317, expected=932.000000\n",
      "predicted=930.420538, expected=904.549988\n",
      "predicted=907.053986, expected=860.000000\n",
      "predicted=862.346817, expected=875.760010\n",
      "predicted=875.807431, expected=922.429993\n",
      "predicted=918.435917, expected=923.390015\n",
      "predicted=920.856148, expected=876.349976\n"
     ]
    }
   ],
   "source": [
    "for t in range(len(test)):\n",
    "\tmodel = sm.tsa.arima.ARIMA(history, order=(5,1,0))\n",
    "\tmodel_fit = model.fit()\n",
    "\toutput = model_fit.forecast() # generate array\n",
    "\tyhat = output[0]\n",
    "\tpredictions.append(yhat) \n",
    "\tobs = test[t] \n",
    "\thistory.append(obs)\n",
    "\tprint('predicted=%f, expected=%f' % (yhat, obs))"
   ]
  },
  {
   "cell_type": "markdown",
   "metadata": {},
   "source": [
    "# evaluate forecasts by use mean_squared_error"
   ]
  },
  {
   "cell_type": "code",
   "execution_count": 17,
   "metadata": {},
   "outputs": [
    {
     "name": "stdout",
     "output_type": "stream",
     "text": [
      "Test RMSE: 31.687\n"
     ]
    },
    {
     "data": {
      "image/png": "[encoded data removed]",
      "text/plain": [
       "<Figure size 432x288 with 1 Axes>"
      ]
     },
     "metadata": {
      "needs_background": "light"
     },
     "output_type": "display_data"
    }
   ],
   "source": [
    "rmse = sqrt(mean_squared_error(test, predictions))\n",
    "print('Test RMSE: %.3f' % rmse)\n",
    "# plot forecasts against actual outcomes\n",
    "pyplot.plot(test)\n",
    "pyplot.plot(predictions, color='green')\n",
    "pyplot.show()"
   ]
  },
  {
   "cell_type": "markdown",
   "metadata": {},
   "source": [
    "# make sure we predict the most recent 20% prices."
   ]
  },
  {
   "cell_type": "code",
   "execution_count": 22,
   "metadata": {},
   "outputs": [
    {
     "data": {
      "text/plain": [
       "Date\n",
       "2021-02    698.840027\n",
       "2021-02    742.020020\n",
       "2021-02    682.219971\n",
       "2021-02    675.500000\n",
       "2021-03    718.429993\n",
       "              ...    \n",
       "2022-02    860.000000\n",
       "2022-02    875.760010\n",
       "2022-02    922.429993\n",
       "2022-02    923.390015\n",
       "2022-02    876.349976\n",
       "Freq: M, Name: Price, Length: 251, dtype: float64"
      ]
     },
     "execution_count": 22,
     "metadata": {},
     "output_type": "execute_result"
    }
   ],
   "source": [
    "X = df\n",
    "X[1008:1259]"
   ]
  }
 ],
 "metadata": {
  "interpreter": {
   "hash": "50a78b6f9fe1252a48e04ab8de7ddb7f22387c68e3fd76189935c84f814cc18a"
  },
  "kernelspec": {
   "display_name": "Python 3.9.5 64-bit ('3.9.5')",
   "language": "python",
   "name": "python3"
  },
  "language_info": {
   "codemirror_mode": {
    "name": "ipython",
    "version": 3
   },
   "file_extension": ".py",
   "mimetype": "text/x-python",
   "name": "python",
   "nbconvert_exporter": "python",
   "pygments_lexer": "ipython3",
   "version": "3.9.5"
  },
  "orig_nbformat": 4
 },
 "nbformat": 4,
 "nbformat_minor": 2
}
